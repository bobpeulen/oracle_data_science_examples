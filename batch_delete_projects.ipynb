{
 "cells": [
  {
   "cell_type": "markdown",
   "id": "a77e4b34",
   "metadata": {},
   "source": [
    "---"
   ]
  },
  {
   "cell_type": "markdown",
   "id": "5a586790",
   "metadata": {},
   "source": [
    "# **Batch delete Model Deployments, Models in Model Catalog, and Notebooks**"
   ]
  },
  {
   "cell_type": "markdown",
   "id": "353639e8",
   "metadata": {},
   "source": [
    "----"
   ]
  },
  {
   "cell_type": "markdown",
   "id": "f8c25690",
   "metadata": {},
   "source": [
    "## **1. List all details in current compartment**"
   ]
  },
  {
   "cell_type": "code",
   "execution_count": 93,
   "id": "39a2bdec",
   "metadata": {},
   "outputs": [],
   "source": [
    "import os\n",
    "import oci\n",
    "import json\n",
    "import pandas as pd\n",
    "import ads\n",
    "import subprocess\n",
    "\n",
    "config = oci.config.from_file()\n",
    "comp_id = os.environ[\"NB_SESSION_COMPARTMENT_OCID\"]  #get current comparment\n",
    "\n",
    "# Initialize service client with default config file\n",
    "data_science_client = oci.data_science.DataScienceClient(config)\n",
    "\n",
    "list_model_deployments_response = data_science_client.list_model_deployments(compartment_id= comp_id)\n",
    "\n",
    "# Get the data from response\n",
    "#print(list_model_deployments_response.data)"
   ]
  },
  {
   "cell_type": "markdown",
   "id": "4b68549d",
   "metadata": {},
   "source": [
    "## **2. Create 3 lists: Model Deployments, Models in Model Catalog, Projects**"
   ]
  },
  {
   "cell_type": "code",
   "execution_count": 94,
   "id": "82542fd4",
   "metadata": {},
   "outputs": [
    {
     "name": "stdout",
     "output_type": "stream",
     "text": [
      "----------------------------------------------------------------------------------------------\n",
      "The following model deployment ids (OCIDS) will be deleted\n",
      "----------------------------------------------------------------------------------------------\n",
      "['ocid1.datasciencemodeldeployment.oc1.eu-frankfurt-1.amaaaaaangencdya64lglwpoqqktb7pmkhgkd3dt5t2rgvwn5on6uvwrbe2q', 'ocid1.datasciencemodeldeployment.oc1.eu-frankfurt-1.amaaaaaangencdya3p3wmufctj23w3t4o25xla77eryywml7q2oti6sai7cq', 'ocid1.datasciencemodeldeployment.oc1.eu-frankfurt-1.amaaaaaangencdyasl6dqv3i7lqwh5zhsgamx6n64h5qbjwafqbb7k3nwpla', 'ocid1.datasciencemodeldeployment.oc1.eu-frankfurt-1.amaaaaaangencdya2xary452si23rcjjykczhzeiq7536apmsxwh4dhay6la', 'ocid1.datasciencemodeldeployment.oc1.eu-frankfurt-1.amaaaaaangencdyacahzdoze6k2yrd3ywsdeyw65qewva2eqnzckabocgquq', 'ocid1.datasciencemodeldeployment.oc1.eu-frankfurt-1.amaaaaaangencdyackrqrerar5yzqfi4rzcdtzp7xwhoiuc3rd6an22lwiya', 'ocid1.datasciencemodeldeployment.oc1.eu-frankfurt-1.amaaaaaangencdya3h4y3k573lrrqejdtd5sn2qgbjmfn4xjn5iho5rgrleq', 'ocid1.datasciencemodeldeployment.oc1.eu-frankfurt-1.amaaaaaangencdyafnvp6beeeqa74xywksdzyazaxdntpmzt3cvhubgoh2tq', 'ocid1.datasciencemodeldeployment.oc1.eu-frankfurt-1.amaaaaaangencdya6tewcd2tzvp47t2hjfxobayyz65s2bvjj24266y6dnaq', 'ocid1.datasciencemodeldeployment.oc1.eu-frankfurt-1.amaaaaaangencdya5xsigrm4pefomljulkpo47dipox3vg5ljychigl6yf5q', 'ocid1.datasciencemodeldeployment.oc1.eu-frankfurt-1.amaaaaaangencdyasleuqktfe7ntfxputg46vojfi7nx2iiaoc5dtarptgoq', 'ocid1.datasciencemodeldeployment.oc1.eu-frankfurt-1.amaaaaaangencdyau4run7sdd4wj36m56wdhu6o2afnak32n3vbxezy2so5q', 'ocid1.datasciencemodeldeployment.oc1.eu-frankfurt-1.amaaaaaangencdyauivmlseh6bf7labxlkwtfujpvww4miol5hrvu3ju6sca']\n",
      "----------------------------------------------------------------------------------------------\n",
      "The following models from model catalogs ids (OCIDS) will be deleted\n",
      "----------------------------------------------------------------------------------------------\n",
      "['ocid1.datasciencemodel.oc1.eu-frankfurt-1.amaaaaaangencdyagoq64zzokto5oxxl65m32yjueb2yggu36uy4pq57rj5a', 'ocid1.datasciencemodel.oc1.eu-frankfurt-1.amaaaaaangencdyagoq64zzokto5oxxl65m32yjueb2yggu36uy4pq57rj5a', 'ocid1.datasciencemodel.oc1.eu-frankfurt-1.amaaaaaangencdyauanowud3tyib2c627wqd6c5toehvcmywsfjeczx4wgja', 'ocid1.datasciencemodel.oc1.eu-frankfurt-1.amaaaaaangencdyarhnepntjgwmf3ni7uxnrboowfn54pdpuopgicuowjnsq', 'ocid1.datasciencemodel.oc1.eu-frankfurt-1.amaaaaaangencdya3cuglthh6afdbrxe3ccbxlxqxanhueusqd2vb6l7oh6q', 'ocid1.datasciencemodel.oc1.eu-frankfurt-1.amaaaaaangencdyamolhca4nilqxjnz6bgq6xrjjau647lhtfwhm6npgkstq', 'ocid1.datasciencemodel.oc1.eu-frankfurt-1.amaaaaaangencdyamyb2l2qvtcgk43mxzoxgahokklyinnwzsjuiknmxpw7q', 'ocid1.datasciencemodel.oc1.eu-frankfurt-1.amaaaaaangencdyaz266mkb5opxa73kv7qlycewloc263idwyl73ub6jxslq', 'ocid1.datasciencemodel.oc1.eu-frankfurt-1.amaaaaaangencdyavoy7gmy7qtn5nag4ehdxqyhl3mfijx5ip4dq2ym4y7dq', 'ocid1.datasciencemodel.oc1.eu-frankfurt-1.amaaaaaangencdyafbrdr5soq2kn464vxjtryg6tcb6sy3ywv7wru4ky6kfq', 'ocid1.datasciencemodel.oc1.eu-frankfurt-1.amaaaaaangencdyahnhoc3xgvglznrp6eg355ogo5wpncswt34rpqtd2pc4q', 'ocid1.datasciencemodel.oc1.eu-frankfurt-1.amaaaaaangencdyal3vd2lzeuxnooxnv7v5ipzchaopi424yrx7rmk3n6twq', 'ocid1.datasciencemodel.oc1.eu-frankfurt-1.amaaaaaangencdyaqbscv2g3uxzyjdqstkx55wuq6m7ndxbwtir2o76mo4aq']\n",
      "----------------------------------------------------------------------------------------------\n",
      "The following project ids (OCIDS) will be deleted\n",
      "----------------------------------------------------------------------------------------------\n",
      "['ocid1.datascienceproject.oc1.eu-frankfurt-1.amaaaaaangencdyaik5ssdqk4as2bhldxprh7vnqpk7yycsm7vymd344cgua', 'ocid1.datascienceproject.oc1.eu-frankfurt-1.amaaaaaangencdyaik5ssdqk4as2bhldxprh7vnqpk7yycsm7vymd344cgua', 'ocid1.datascienceproject.oc1.eu-frankfurt-1.amaaaaaangencdyaik5ssdqk4as2bhldxprh7vnqpk7yycsm7vymd344cgua', 'ocid1.datascienceproject.oc1.eu-frankfurt-1.amaaaaaangencdyatrdkkuvsxjzmpcp7pfcc2ztmmzykgeech3kmo34wnuza', 'ocid1.datascienceproject.oc1.eu-frankfurt-1.amaaaaaangencdyaik5ssdqk4as2bhldxprh7vnqpk7yycsm7vymd344cgua', 'ocid1.datascienceproject.oc1.eu-frankfurt-1.amaaaaaangencdyaik5ssdqk4as2bhldxprh7vnqpk7yycsm7vymd344cgua', 'ocid1.datascienceproject.oc1.eu-frankfurt-1.amaaaaaangencdyaik5ssdqk4as2bhldxprh7vnqpk7yycsm7vymd344cgua', 'ocid1.datascienceproject.oc1.eu-frankfurt-1.amaaaaaangencdyaik5ssdqk4as2bhldxprh7vnqpk7yycsm7vymd344cgua', 'ocid1.datascienceproject.oc1.eu-frankfurt-1.amaaaaaangencdyaik5ssdqk4as2bhldxprh7vnqpk7yycsm7vymd344cgua', 'ocid1.datascienceproject.oc1.eu-frankfurt-1.amaaaaaangencdyaj66w7kosab2jbuuc7w7aokmxqmoizhhwlswbui5gunya', 'ocid1.datascienceproject.oc1.eu-frankfurt-1.amaaaaaangencdyatrdkkuvsxjzmpcp7pfcc2ztmmzykgeech3kmo34wnuza', 'ocid1.datascienceproject.oc1.eu-frankfurt-1.amaaaaaangencdyatrdkkuvsxjzmpcp7pfcc2ztmmzykgeech3kmo34wnuza', 'ocid1.datascienceproject.oc1.eu-frankfurt-1.amaaaaaangencdyaik5ssdqk4as2bhldxprh7vnqpk7yycsm7vymd344cgua']\n"
     ]
    }
   ],
   "source": [
    "################\n",
    "################ Loop through model deployments in compartment and delete all\n",
    "################\n",
    "\n",
    "#1 create list of model deployments\n",
    "list_model_deployments = []\n",
    "loop = list(range(0,len(list_model_deployments_response.data)))\n",
    "\n",
    "for row in loop:  #loop through all rows of json objects\n",
    "\n",
    "    md_id = list_model_deployments_response.data[row].id\n",
    "    list_model_deployments.append(md_id)\n",
    "\n",
    "print(\"----------------------------------------------------------------------------------------------\")\n",
    "print(\"The following model deployment ids (OCIDS) will be deleted\")\n",
    "print(\"----------------------------------------------------------------------------------------------\")\n",
    "print(list_model_deployments)\n",
    "\n",
    "#2 create list of model in model catalogs\n",
    "list_model_catalog= []\n",
    "\n",
    "for row in loop:  #loop through all rows of json objects\n",
    "\n",
    "    model_catalog_id = list_model_deployments_response.data[row].model_deployment_configuration_details.model_configuration_details.model_id\n",
    "    list_model_catalog.append(model_catalog_id)\n",
    "\n",
    "print(\"----------------------------------------------------------------------------------------------\")\n",
    "print(\"The following models from model catalogs ids (OCIDS) will be deleted\")\n",
    "print(\"----------------------------------------------------------------------------------------------\")\n",
    "print(list_model_catalog)\n",
    "\n",
    "#3 create list of projects\n",
    "list_projects= []\n",
    "\n",
    "for row in loop:  #loop through all rows of json objects\n",
    "\n",
    "    project_id = list_model_deployments_response.data[row].project_id\n",
    "    list_projects.append(project_id)\n",
    "\n",
    "print(\"----------------------------------------------------------------------------------------------\")\n",
    "print(\"The following project ids (OCIDS) will be deleted\")\n",
    "print(\"----------------------------------------------------------------------------------------------\")\n",
    "print(list_projects)"
   ]
  },
  {
   "cell_type": "markdown",
   "id": "ed4b9444",
   "metadata": {},
   "source": [
    "## **3. Create list of all notebooks in compartment**"
   ]
  },
  {
   "cell_type": "code",
   "execution_count": 95,
   "id": "6f838c94",
   "metadata": {},
   "outputs": [
    {
     "name": "stdout",
     "output_type": "stream",
     "text": [
      "----------------------------------------------------------------------------------------------\n",
      "The following notebook ids (OCIDS) will be deleted\n",
      "----------------------------------------------------------------------------------------------\n",
      "['ocid1.datasciencenotebooksession.oc1.eu-frankfurt-1.amaaaaaangencdyacxmsz5ycch762wjc54udhibtl3m4nacuaf7shrvyoktq', 'ocid1.datasciencenotebooksession.oc1.eu-frankfurt-1.amaaaaaangencdyasmhpyb2hwwcjldbzdvqe5azknzzfxtsuhecgu7bswz2a', 'ocid1.datasciencenotebooksession.oc1.eu-frankfurt-1.amaaaaaangencdya62nexjydgwkfxrc3sbtllghfbz2e75h7kpiykerwo7ma', 'ocid1.datasciencenotebooksession.oc1.eu-frankfurt-1.amaaaaaangencdyaa3be4bdpb54isd5znu4cpked7lme2layflgpricbgsma', 'ocid1.datasciencenotebooksession.oc1.eu-frankfurt-1.amaaaaaangencdyaixaxcfo2zjvq3qy3ob64ji7n6ym54o7w37kwzpm2l2lq', 'ocid1.datasciencenotebooksession.oc1.eu-frankfurt-1.amaaaaaangencdyalbc27qr2owezjxcbr5v6spkwmtpnxqbfrfi27a4nc4xq', 'ocid1.datasciencenotebooksession.oc1.eu-frankfurt-1.amaaaaaangencdyae4x7m3zj2oppzulfib7otp3afjr6aropgyymcb2e3pjq', 'ocid1.datasciencenotebooksession.oc1.eu-frankfurt-1.amaaaaaangencdya3hrsuqabjsnnbwxegpvmo2r3xwl3bcwr2okp4fegouna']\n"
     ]
    }
   ],
   "source": [
    "list_notebooks_response = data_science_client.list_notebook_sessions(compartment_id= comp_id)\n",
    "\n",
    "#1 create list of model deployments\n",
    "list_notebooks = []\n",
    "loop = list(range(0,len(list_notebooks_response.data)))\n",
    "\n",
    "for row in loop:  #loop through all rows of json objects\n",
    "\n",
    "    nb_id = list_notebooks_response.data[row].id\n",
    "    list_notebooks.append(nb_id)\n",
    "\n",
    "print(\"----------------------------------------------------------------------------------------------\")\n",
    "print(\"The following notebook ids (OCIDS) will be deleted\")\n",
    "print(\"----------------------------------------------------------------------------------------------\")\n",
    "print(list_notebooks)"
   ]
  },
  {
   "cell_type": "markdown",
   "id": "a576d14e",
   "metadata": {},
   "source": [
    "---"
   ]
  },
  {
   "cell_type": "markdown",
   "id": "6750abec",
   "metadata": {},
   "source": [
    "## **2.1 Delete all Model Deployments**"
   ]
  },
  {
   "cell_type": "code",
   "execution_count": null,
   "id": "5d396a60",
   "metadata": {},
   "outputs": [],
   "source": [
    "for x in list_model_deployments: \n",
    "    delete_model_deployment_response = data_science_client.delete_model_deployment(model_deployment_id=x)\n",
    "\n",
    "    # Get the data from response\n",
    "    print(delete_model_deployment_response.headers)"
   ]
  },
  {
   "cell_type": "markdown",
   "id": "812bba50",
   "metadata": {},
   "source": [
    "## **2.2 Delete all Models in Model Catalog**"
   ]
  },
  {
   "cell_type": "code",
   "execution_count": null,
   "id": "b2953272",
   "metadata": {},
   "outputs": [],
   "source": [
    "for x in list_model_catalog: \n",
    "    delete_model_response = data_science_client.delete_model(model_id=x)\n",
    "\n",
    "    # Get the data from response\n",
    "    print(delete_model_response.headers)"
   ]
  },
  {
   "cell_type": "markdown",
   "id": "e4047329",
   "metadata": {},
   "source": [
    "## **2.3 Delete all notebook session**"
   ]
  },
  {
   "cell_type": "code",
   "execution_count": null,
   "id": "a7733879",
   "metadata": {},
   "outputs": [],
   "source": [
    "for x in list_notebooks: \n",
    "    delete_notebook_session_response = data_science_client.delete_notebook_session(notebook_session_id=x)\n",
    "\n",
    "    # Get the data from response\n",
    "    print(delete_notebook_session_response.headers)"
   ]
  },
  {
   "cell_type": "markdown",
   "id": "ce01b1e3",
   "metadata": {},
   "source": [
    "## **2.4 Delete all projects**"
   ]
  },
  {
   "cell_type": "code",
   "execution_count": null,
   "id": "184a01f5",
   "metadata": {},
   "outputs": [],
   "source": [
    "for x in list_projects: \n",
    "    delete_project_response = data_science_client.delete_project(project_id=x)\n",
    "\n",
    "    # Get the data from response\n",
    "    print(delete_project_response.headers)"
   ]
  },
  {
   "cell_type": "code",
   "execution_count": null,
   "id": "e5022e5d",
   "metadata": {},
   "outputs": [],
   "source": []
  }
 ],
 "metadata": {
  "kernelspec": {
   "display_name": "Python [conda env:logo_object_detection_conda]",
   "language": "python",
   "name": "conda-env-logo_object_detection_conda-py"
  },
  "language_info": {
   "codemirror_mode": {
    "name": "ipython",
    "version": 3
   },
   "file_extension": ".py",
   "mimetype": "text/x-python",
   "name": "python",
   "nbconvert_exporter": "python",
   "pygments_lexer": "ipython3",
   "version": "3.7.10"
  }
 },
 "nbformat": 4,
 "nbformat_minor": 5
}
