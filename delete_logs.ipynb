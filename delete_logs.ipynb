{
 "cells": [
  {
   "cell_type": "markdown",
   "id": "ab0b76e0",
   "metadata": {},
   "source": [
    "### OCI Data Science - Useful Tips\n",
    "<details>\n",
    "<summary><font size=\"2\">Check for Public Internet Access</font></summary>\n",
    "\n",
    "```python\n",
    "import requests\n",
    "response = requests.get(\"https://oracle.com\")\n",
    "assert response.status_code==200, \"Internet connection failed\"\n",
    "```\n",
    "</details>\n",
    "<details>\n",
    "<summary><font size=\"2\">Helpful Documentation </font></summary>\n",
    "<ul><li><a href=\"https://docs.cloud.oracle.com/en-us/iaas/data-science/using/data-science.htm\">Data Science Service Documentation</a></li>\n",
    "<li><a href=\"https://docs.cloud.oracle.com/iaas/tools/ads-sdk/latest/index.html\">ADS documentation</a></li>\n",
    "</ul>\n",
    "</details>\n",
    "<details>\n",
    "<summary><font size=\"2\">Typical Cell Imports and Settings for ADS</font></summary>\n",
    "\n",
    "```python\n",
    "%load_ext autoreload\n",
    "%autoreload 2\n",
    "%matplotlib inline\n",
    "\n",
    "import warnings\n",
    "warnings.filterwarnings('ignore')\n",
    "\n",
    "import logging\n",
    "logging.basicConfig(format='%(levelname)s:%(message)s', level=logging.ERROR)\n",
    "\n",
    "import ads\n",
    "from ads.dataset.factory import DatasetFactory\n",
    "from ads.automl.provider import OracleAutoMLProvider\n",
    "from ads.automl.driver import AutoML\n",
    "from ads.evaluations.evaluator import ADSEvaluator\n",
    "from ads.common.data import ADSData\n",
    "from ads.explanations.explainer import ADSExplainer\n",
    "from ads.explanations.mlx_global_explainer import MLXGlobalExplainer\n",
    "from ads.explanations.mlx_local_explainer import MLXLocalExplainer\n",
    "from ads.catalog.model import ModelCatalog\n",
    "from ads.common.model_artifact import ModelArtifact\n",
    "```\n",
    "</details>\n",
    "<details>\n",
    "<summary><font size=\"2\">Useful Environment Variables</font></summary>\n",
    "\n",
    "```python\n",
    "import os\n",
    "print(os.environ[\"NB_SESSION_COMPARTMENT_OCID\"])\n",
    "print(os.environ[\"PROJECT_OCID\"])\n",
    "print(os.environ[\"USER_OCID\"])\n",
    "print(os.environ[\"TENANCY_OCID\"])\n",
    "print(os.environ[\"NB_REGION\"])\n",
    "```\n",
    "</details>"
   ]
  },
  {
   "cell_type": "markdown",
   "id": "134c71da",
   "metadata": {},
   "source": [
    "## **1. Establish all the logs belonging to a Log Group**"
   ]
  },
  {
   "cell_type": "code",
   "execution_count": null,
   "id": "2a6ac39a",
   "metadata": {},
   "outputs": [],
   "source": [
    "import os\n",
    "import json\n",
    "import pandas as pd\n",
    "import ads\n",
    "auth = ads.set_auth(auth='resource_principal')\n",
    "\n",
    "################\n",
    "################ only change the below log group id\n",
    "################\n",
    "\n",
    "#1 set the Log Group ID\n",
    "log_group_id = \"ocid1.loggroup.oc1.eu-frankfurt-1.amaaaaaangencdyajxalcuggjaug57r3ugare7olsk44ts2shyv7azqbxf4q\"\n",
    "\n",
    "################\n",
    "################ don't change below\n",
    "################\n",
    "\n",
    "#2 list all the logs.\n",
    "cmd = \"oci logging log list --log-group-id \" + log_group_id\n",
    "list_of_logs = subprocess.check_output(cmd, shell=True)\n",
    "\n",
    "#3 Convert output to Json\n",
    "list_of_logs_as_json = list_of_logs.decode('utf8')\n",
    "\n",
    "#4 load in pd dataframe and convert to list to loop over\n",
    "df_logs = pd.read_json(list_of_logs_as_json, orient='split')\n",
    "df_logs_ids = df_logs[\"id\"].to_list()\n",
    "print(\"The following log ids (OCIDS) will be deleted\")\n",
    "df_logs_ids"
   ]
  },
  {
   "cell_type": "markdown",
   "id": "e5645fe1",
   "metadata": {},
   "source": [
    "## **2. Delete logs**"
   ]
  },
  {
   "cell_type": "code",
   "execution_count": null,
   "id": "ae033d80",
   "metadata": {},
   "outputs": [],
   "source": [
    "delete_cmnd = \"oci logging log delete --log-group-id \" + log_group_id + \" --log-id \"\n",
    "\n",
    "for log in df_logs_ids:\n",
    "    delete_logx = delete_cmnd + log + \" --force\"\n",
    "    \n",
    "    print_me = subprocess.check_output(delete_logx, shell=True)\n",
    "    print(\"Sadly, I am deleted :( \")\n",
    "    print(print_me)"
   ]
  },
  {
   "cell_type": "code",
   "execution_count": null,
   "id": "4c2652ad",
   "metadata": {},
   "outputs": [],
   "source": []
  }
 ],
 "metadata": {
  "kernelspec": {
   "display_name": "Python [conda env:logo_object_detection_conda]",
   "language": "python",
   "name": "conda-env-logo_object_detection_conda-py"
  },
  "language_info": {
   "codemirror_mode": {
    "name": "ipython",
    "version": 3
   },
   "file_extension": ".py",
   "mimetype": "text/x-python",
   "name": "python",
   "nbconvert_exporter": "python",
   "pygments_lexer": "ipython3",
   "version": "3.7.10"
  }
 },
 "nbformat": 4,
 "nbformat_minor": 5
}
