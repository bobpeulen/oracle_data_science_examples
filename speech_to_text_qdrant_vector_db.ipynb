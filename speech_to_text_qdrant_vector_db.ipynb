{
 "cells": [
  {
   "cell_type": "markdown",
   "id": "4e0d0e37",
   "metadata": {},
   "source": [
    "\n",
    "### **<h1 align =\"middle\"><b>Speech to Text & Qdrant Vector Database</b></h1>**"
   ]
  },
  {
   "cell_type": "markdown",
   "id": "c7078c2e",
   "metadata": {},
   "source": [
    "---"
   ]
  },
  {
   "cell_type": "markdown",
   "id": "e97d212f",
   "metadata": {},
   "source": [
    "> - 1. Speech to Text using Whisper\n",
    "> - 2. Store / Query transcribed texts from ADW)\n",
    "> - 3. Encode Texts (embeddings) and push to Qdrant Vector DB"
   ]
  },
  {
   "cell_type": "markdown",
   "id": "54382f2a",
   "metadata": {},
   "source": [
    "---"
   ]
  },
  {
   "cell_type": "markdown",
   "id": "83b21988",
   "metadata": {},
   "source": [
    "## **Imports**"
   ]
  },
  {
   "cell_type": "code",
   "execution_count": null,
   "id": "77a15e09",
   "metadata": {},
   "outputs": [],
   "source": [
    "import os\n",
    "import ocifs\n",
    "import numpy as np\n",
    "import torch\n",
    "import pandas as pd\n",
    "import whisper\n",
    "import torchaudio\n",
    "from tqdm.notebook import tqdm\n",
    "from sentence_transformers import SentenceTransformer\n",
    "import faiss\n",
    "import pickle\n",
    "import ffmpeg\n",
    "import ocifs\n",
    "from json import loads, dumps\n",
    "from qdrant_client import models, QdrantClient\n",
    "DEVICE = \"cuda\" if torch.cuda.is_available() else \"cpu\"\n"
   ]
  },
  {
   "cell_type": "markdown",
   "id": "93081fba",
   "metadata": {},
   "source": [
    "# **1. Speech to Text using Whisper**"
   ]
  },
  {
   "cell_type": "markdown",
   "id": "efe58170",
   "metadata": {},
   "source": [
    "## **1.1. Fetch recording from Bucket**"
   ]
  },
  {
   "cell_type": "code",
   "execution_count": null,
   "id": "b47d0267",
   "metadata": {},
   "outputs": [],
   "source": [
    "# for demo delete entire local folder\n",
    "!rm -r /home/datascience/input_recording"
   ]
  },
  {
   "cell_type": "code",
   "execution_count": null,
   "id": "5a6c3c39",
   "metadata": {},
   "outputs": [],
   "source": [
    "#create local folder (in job)\n",
    "path_input_locally = \"/home/datascience/input_recording/\"\n",
    "bucket = \"oci://West_BP@frqap2zhtzbe/\"\n",
    "\n",
    "try:       \n",
    "    if not os.path.exists(path_input_locally):         \n",
    "        os.makedirs(path_input_locally)    \n",
    "\n",
    "except OSError: \n",
    "    print ('Error: Creating directory of input recording')\n",
    "\n",
    "#copy recording from bucket to local folder\n",
    "fs = ocifs.OCIFileSystem()\n",
    "print(fs.ls(bucket))\n",
    "fs.invalidate_cache(bucket)\n",
    "fs.get(bucket, path_input_locally, recursive=True, refresh=True)"
   ]
  },
  {
   "cell_type": "markdown",
   "id": "c552a8f9",
   "metadata": {},
   "source": [
    "## **1.2 Running Whisper**"
   ]
  },
  {
   "cell_type": "markdown",
   "id": "75c1b162",
   "metadata": {},
   "source": [
    "### **1.2.1 Detect Language (incorporated in model)**"
   ]
  },
  {
   "cell_type": "code",
   "execution_count": null,
   "id": "c1da0e62",
   "metadata": {},
   "outputs": [],
   "source": [
    "#load whisper model\n",
    "model = whisper.load_model(\"medium\")"
   ]
  },
  {
   "cell_type": "code",
   "execution_count": null,
   "id": "66976606",
   "metadata": {},
   "outputs": [],
   "source": [
    "#for each recording in the folder detect langauge\n",
    "for recording in os.listdir(path_input_locally):\n",
    "        if (recording.endswith(\".mp3\")):\n",
    "            \n",
    "            audio_recording = os.path.join(path_input_locally, recording)\n",
    "            \n",
    "            # load audio and pad/trim it to fit 30 seconds\n",
    "            audio = whisper.load_audio(audio_recording)\n",
    "            audio = whisper.pad_or_trim(audio)\n",
    "            \n",
    "\n",
    "            # make log-Mel spectrogram and move to the same device as the model\n",
    "            mel = whisper.log_mel_spectrogram(audio).to(model.device)\n",
    "\n",
    "            # detect the spoken language\n",
    "            _, probs = model.detect_language(mel)\n",
    "            print(f\"Detected language: {max(probs, key=probs.get)}\")"
   ]
  },
  {
   "cell_type": "markdown",
   "id": "98c235f9",
   "metadata": {},
   "source": [
    "### **1.2.2 Load model and Run Transcription**"
   ]
  },
  {
   "cell_type": "code",
   "execution_count": null,
   "id": "d2e5bb1b",
   "metadata": {},
   "outputs": [],
   "source": [
    "output = []\n",
    "\n",
    "##ffmpeg\n",
    "!wget -O - -q  https://github.com/yt-dlp/FFmpeg-Builds/releases/download/latest/ffmpeg-master-latest-linux64-gpl.tar.xz | xz -qdc| tar -x\n",
    "    \n",
    "for recording in os.listdir(path_input_locally):\n",
    "        if (recording.endswith(\".mp3\")):\n",
    "            \n",
    "            audio_recording = os.path.join(path_input_locally, recording)\n",
    "            \n",
    "            #transcribe recording\n",
    "            result = model.transcribe(audio_recording)\n",
    "            \n",
    "            #append result for each recording to list\n",
    "            output.append(result['text'])\n",
    "                       \n",
    "            print(recording + \" is transcribed\")\n",
    "\n",
    "#all in dataframe\n",
    "df_transcriptions = pd.DataFrame(output, columns=['text'])"
   ]
  },
  {
   "cell_type": "code",
   "execution_count": null,
   "id": "34031db8",
   "metadata": {},
   "outputs": [],
   "source": [
    "#show\n",
    "pd.set_option('display.max_colwidth', None)\n",
    "df_transcriptions"
   ]
  },
  {
   "cell_type": "markdown",
   "id": "8584e017",
   "metadata": {},
   "source": [
    "# **2. Qdrant**"
   ]
  },
  {
   "cell_type": "markdown",
   "id": "5fae86d2",
   "metadata": {},
   "source": [
    "## **2.1 Encode Sentences, Transform into JSON package, and Load into Vector DB**"
   ]
  },
  {
   "cell_type": "code",
   "execution_count": null,
   "id": "8d8bcedd",
   "metadata": {},
   "outputs": [],
   "source": [
    "encoder = SentenceTransformer('multi-qa-distilbert-cos-v1') # Model to create embeddings"
   ]
  },
  {
   "cell_type": "code",
   "execution_count": null,
   "id": "5e371151",
   "metadata": {},
   "outputs": [],
   "source": [
    "## transform df_transcritiopons to correct format for Qrant\n",
    "texts = df_transcriptions.to_json(orient = 'records')\n",
    "documents = loads(texts)"
   ]
  },
  {
   "cell_type": "code",
   "execution_count": null,
   "id": "063c066c",
   "metadata": {},
   "outputs": [],
   "source": [
    "#example of the format it should have\n",
    "\n",
    "# documents = [\n",
    "#   { \"name\": \"The Time Machine\", \"description\": \"A man travels through time and witnesses the evolution of humanity.\", \"author\": \"H.G. Wells\", \"year\": 1895 },\n",
    "#   { \"name\": \"Ender's Game\", \"description\": \"A young boy is trained to become a military leader in a war against an alien race.\", \"author\": \"Orson Scott Card\", \"year\": 1985 },\n",
    "#   { \"name\": \"Brave New World\", \"description\": \"A dystopian society where people are genetically engineered and conditioned to conform to a strict social hierarchy.\", \"author\": \"Aldous Huxley\", \"year\": 1932 }\n",
    "# ]"
   ]
  },
  {
   "cell_type": "code",
   "execution_count": null,
   "id": "5685af73",
   "metadata": {},
   "outputs": [],
   "source": [
    "#establish connection to Qdrant vector database\n",
    "qdrant = QdrantClient(\"xxxx\", port=6333) # Create in-memory Qdrant instance\n",
    "\n",
    "# Create collection to store books\n",
    "qdrant.recreate_collection(\n",
    "    collection_name=\"collection_v1\",\n",
    "    vectors_config=models.VectorParams(\n",
    "        size=encoder.get_sentence_embedding_dimension(), # Vector size is defined by used model\n",
    "        distance=models.Distance.COSINE\n",
    "    )\n",
    ")\n",
    "\n",
    "\n",
    "\n",
    "# Let's vectorize descriptions and upload to qdrant\n",
    "qdrant.upload_records(\n",
    "    collection_name=\"collection_v1\",\n",
    "    records=[\n",
    "        models.Record(\n",
    "            id=idx,\n",
    "            vector=encoder.encode(doc[\"text\"]).tolist(),\n",
    "            payload=doc\n",
    "        ) for idx, doc in enumerate(documents)\n",
    "    ]\n",
    ")"
   ]
  },
  {
   "cell_type": "markdown",
   "id": "566e449d",
   "metadata": {},
   "source": [
    "## **2.2 Example Search**"
   ]
  },
  {
   "cell_type": "code",
   "execution_count": null,
   "id": "cd04ae41",
   "metadata": {},
   "outputs": [],
   "source": [
    "# Search on a sentence\n",
    "hits = qdrant.search(\n",
    "    collection_name=\"collection_v1\",\n",
    "    query_vector=encoder.encode(\"What are people saying about mortgages services?\").tolist(),\n",
    "    limit=3\n",
    ")\n",
    "for hit in hits:\n",
    "    print(hit.payload, \"score:\", hit.score)"
   ]
  },
  {
   "cell_type": "code",
   "execution_count": null,
   "id": "b38c6b8e",
   "metadata": {},
   "outputs": [],
   "source": [
    "# Specific filter\n",
    "\n",
    "# hits = qdrant.search(\n",
    "#     collection_name=\"collection_v1\",\n",
    "#     query_vector=encoder.encode(\"Tyranic society\").tolist(),\n",
    "#     query_filter=models.Filter(\n",
    "#         must=[\n",
    "#             models.FieldCondition(\n",
    "#                 key=\"year\",\n",
    "#                 range=models.Range(\n",
    "#                     gte=2000\n",
    "#                 )\n",
    "#             )\n",
    "#         ]\n",
    "#     ),\n",
    "#     limit=3\n",
    "# )\n",
    "# for hit in hits:\n",
    "#     print(hit.payload, \"score:\", hit.score)"
   ]
  },
  {
   "cell_type": "markdown",
   "id": "de9b65fc",
   "metadata": {},
   "source": [
    "# **4. Create one file, one Job**"
   ]
  },
  {
   "cell_type": "markdown",
   "id": "1aa503f1",
   "metadata": {},
   "source": [
    "## **4.1 Create one .py File**"
   ]
  },
  {
   "cell_type": "code",
   "execution_count": null,
   "id": "a06c32b5",
   "metadata": {},
   "outputs": [],
   "source": [
    "%%writefile ./job_artifact/job_v1.py\n",
    "\n",
    "import os\n",
    "import ocifs\n",
    "import numpy as np\n",
    "import torch\n",
    "import pandas as pd\n",
    "import whisper\n",
    "import torchaudio\n",
    "from tqdm.notebook import tqdm\n",
    "from sentence_transformers import SentenceTransformer\n",
    "import faiss\n",
    "import pickle\n",
    "import ffmpeg\n",
    "import ocifs\n",
    "from json import loads, dumps\n",
    "from qdrant_client import models, QdrantClient\n",
    "DEVICE = \"cuda\" if torch.cuda.is_available() else \"cpu\"\n",
    "\n",
    "#fetch environmment variables:\n",
    "recording_name = os.environ.get(\"recording_name\", \"recording\")\n",
    "print(\"Fetching environment variable called \" + recording_name)\n",
    "\n",
    "\n",
    "######## ----------------------------------------------------- #################\n",
    "# Step 1\n",
    "######## ----------------------------------------------------- #################\n",
    "\n",
    "#create local folder (in job)\n",
    "path_input_locally = \"/home/datascience/input_recording/\"\n",
    "bucket = \"oci://West_BP@frqap2zhtzbe/xx/\"\n",
    "\n",
    "try:       \n",
    "    if not os.path.exists(path_input_locally):         \n",
    "        os.makedirs(path_input_locally)    \n",
    "\n",
    "except OSError: \n",
    "    print ('Error: Creating directory of input recording')\n",
    "\n",
    "#copy recording from bucket to local folder\n",
    "fs = ocifs.OCIFileSystem()\n",
    "print(fs.ls(bucket))\n",
    "fs.get(bucket, path_input_locally, recursive=True, refresh=True)\n",
    "\n",
    "######## ----------------------------------------------------- #################\n",
    "# Step 2 - Load model and Detect languages\n",
    "######## ----------------------------------------------------- #################\n",
    "\n",
    "#load whisper model\n",
    "model = whisper.load_model(\"base\")\n",
    "\n",
    "#for each recording in the folder detect langauge\n",
    "for recording in os.listdir(path_input_locally):\n",
    "        if (recording.endswith(\".mp3\")):\n",
    "            \n",
    "            audio_recording = os.path.join(path_input_locally, recording)\n",
    "            \n",
    "            # load audio and pad/trim it to fit 30 seconds\n",
    "            audio = whisper.load_audio(audio_recording)\n",
    "            audio = whisper.pad_or_trim(audio)\n",
    "            \n",
    "\n",
    "            # make log-Mel spectrogram and move to the same device as the model\n",
    "            mel = whisper.log_mel_spectrogram(audio).to(model.device)\n",
    "\n",
    "            # detect the spoken language\n",
    "            _, probs = model.detect_language(mel)\n",
    "            print(f\"Detected language: {max(probs, key=probs.get)}\")\n",
    "\n",
    "\n",
    "\n",
    "\n",
    "######## ----------------------------------------------------- #################\n",
    "# Step 3 Transcripte recordings\n",
    "######## ----------------------------------------------------- #################\n",
    "\n",
    "output = []\n",
    "\n",
    "##ffmpeg\n",
    "os.system(\"wget -O - -q  https://github.com/yt-dlp/FFmpeg-Builds/releases/download/latest/ffmpeg-master-latest-linux64-gpl.tar.xz | xz -qdc| tar -x\")\n",
    "    \n",
    "for recording in os.listdir(path_input_locally):\n",
    "        if (recording.endswith(\".mp3\")):\n",
    "            \n",
    "            audio_recording = os.path.join(path_input_locally, recording)\n",
    "            \n",
    "            #transcribe recording\n",
    "            result = model.transcribe(audio_recording)\n",
    "            \n",
    "            #append result for each recording to list\n",
    "            output.append(result['text'])\n",
    "                       \n",
    "            print(recording + \" is transcribed\")\n",
    "\n",
    "#all in dataframe\n",
    "df_transcriptions = pd.DataFrame(output, columns=['text'])\n",
    "\n",
    "######## ----------------------------------------------------- #################\n",
    "# Step 3 Create embeddings\n",
    "######## ----------------------------------------------------- #################\n",
    "\n",
    "encoder = SentenceTransformer('multi-qa-distilbert-cos-v1') # Model to create embeddings\n",
    "\n",
    "## transform df_transcritiopons to correct format for Qrant\n",
    "texts = df_transcriptions.to_json(orient = 'records')\n",
    "documents = loads(texts)\n",
    "\n",
    "#establish connection to Qdrant vector database\n",
    "qdrant = QdrantClient(\"138.3.241.32\", port=6333) # Create in-memory Qdrant instance\n",
    "\n",
    "# Create collection to store books\n",
    "qdrant.recreate_collection(\n",
    "    collection_name=\"collection_v1\",\n",
    "    vectors_config=models.VectorParams(\n",
    "        size=encoder.get_sentence_embedding_dimension(), # Vector size is defined by used model\n",
    "        distance=models.Distance.COSINE\n",
    "    )\n",
    ")\n",
    "\n",
    "\n",
    "\n",
    "# Let's vectorize descriptions and upload to qdrant\n",
    "qdrant.upload_records(\n",
    "    collection_name=\"collection_v1\",\n",
    "    records=[\n",
    "        models.Record(\n",
    "            id=idx,\n",
    "            vector=encoder.encode(doc[\"text\"]).tolist(),\n",
    "            payload=doc\n",
    "        ) for idx, doc in enumerate(documents\n",
    "    ]\n",
    ")\n",
    "\n",
    "print(\"-------------------------------------------------------\")\n",
    "print(\"-------------------------------------------------------\")\n",
    "print(\"Encoded Text / Embeddings are pushed to Qdrant\")\n",
    "print(\"-------------------------------------------------------\")\n",
    "print(\"-------------------------------------------------------\")"
   ]
  },
  {
   "cell_type": "markdown",
   "id": "6b2562d3",
   "metadata": {},
   "source": [
    "## **4.2 Create and Trigger Job**"
   ]
  },
  {
   "cell_type": "code",
   "execution_count": null,
   "id": "9af0694f",
   "metadata": {},
   "outputs": [],
   "source": [
    "# # # publish conda, as we added new/custom packages\n",
    "# !odsc conda init -b conda_environment_yolov5 -n frqap2zhtzbe -a resource_principal\n",
    "# !odsc conda publish -s pytorch20_p39_gpu_v1 --force"
   ]
  },
  {
   "cell_type": "code",
   "execution_count": null,
   "id": "ed747331",
   "metadata": {},
   "outputs": [],
   "source": [
    "#imports\n",
    "from ads.common.oci_logging import OCILogGroup, OCILog\n",
    "from ads.jobs import Job, DataScienceJob, PythonRuntime\n",
    "from datetime import datetime, timedelta\n",
    "from ads import set_auth\n",
    "\n",
    "#authentication\n",
    "set_auth(auth='resource_principal')"
   ]
  },
  {
   "cell_type": "code",
   "execution_count": null,
   "id": "ff9117cb",
   "metadata": {},
   "outputs": [],
   "source": [
    "## create the job\n",
    "\n",
    "job = (\n",
    "    Job(name=\"job_v6\")\n",
    "    .with_infrastructure(\n",
    "        DataScienceJob()\n",
    "        # Configure logging for getting the job run outputs.\n",
    "        .with_log_group_id(\"ocid1.loggroup.oc1.eu-frankfurt-1.amaaaaaangencdyajxalcuggjaug57r3ugare7olsk44ts2shyv7azqbxf4q\")\n",
    "        .with_shape_name(\"VM.Standard2.4\")\n",
    "        #.with_shape_config_details(memory_in_gbs=16, ocpus=5)\n",
    "        .with_block_storage_size(200)\n",
    "    )\n",
    "    .with_runtime(\n",
    "        PythonRuntime()\n",
    "        # Specify the service conda environment by slug name.\n",
    "        .with_custom_conda(\"oci://conda_environment_yolov5@frqap2zhtzbe/conda_environments/gpu/PyTorch 2.0 for GPU on Python 3.9/1.0/pytorch20_p39_gpu_v1\")\n",
    "        # Source code of the job, can be local or remote.\n",
    "        .with_source(\"/home/datascience/job_artifact\")\n",
    "        #Environment variable\n",
    "        .with_environment_variable(recording_name=\"Default variable\")\n",
    "        .with_entrypoint(\"job_artifact/job_v1.py\")\n",
    "    )\n",
    ")\n",
    "\n",
    "job.create()"
   ]
  },
  {
   "cell_type": "code",
   "execution_count": null,
   "id": "6df43e5d",
   "metadata": {},
   "outputs": [],
   "source": [
    "job_run_env = job.run(\n",
    "    name=\"job_run_vxx\",\n",
    "    env_var={\"recording_name\": \"An example environment variable. Could passed to this Job\"}\n",
    ")\n",
    "\n",
    "job_run_watch = job_run_env.watch()"
   ]
  },
  {
   "cell_type": "code",
   "execution_count": null,
   "id": "a5c5716c",
   "metadata": {},
   "outputs": [],
   "source": []
  },
  {
   "cell_type": "code",
   "execution_count": null,
   "id": "065fa9da",
   "metadata": {},
   "outputs": [],
   "source": []
  }
 ],
 "metadata": {
  "kernelspec": {
   "display_name": "Python [conda env:pytorch20_p39_gpu_v1]",
   "language": "python",
   "name": "conda-env-pytorch20_p39_gpu_v1-py"
  },
  "language_info": {
   "codemirror_mode": {
    "name": "ipython",
    "version": 3
   },
   "file_extension": ".py",
   "mimetype": "text/x-python",
   "name": "python",
   "nbconvert_exporter": "python",
   "pygments_lexer": "ipython3",
   "version": "3.9.16"
  }
 },
 "nbformat": 4,
 "nbformat_minor": 5
}
